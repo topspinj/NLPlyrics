{
 "cells": [
  {
   "cell_type": "markdown",
   "metadata": {},
   "source": [
    "# Markov Modeling"
   ]
  },
  {
   "cell_type": "code",
   "execution_count": 19,
   "metadata": {},
   "outputs": [],
   "source": [
    "import pandas as pd\n",
    "import numpy as np\n",
    "import random\n",
    "from collections import defaultdict, Counter"
   ]
  },
  {
   "cell_type": "code",
   "execution_count": 20,
   "metadata": {},
   "outputs": [],
   "source": [
    "import random\n",
    "\n",
    "class MarkovModel():\n",
    "    def __init__(self, n):\n",
    "        self.n = n\n",
    "    \n",
    "    def fit(self, text):\n",
    "        circ_text = text + text[:self.n] \n",
    "        frequencies = defaultdict(Counter)\n",
    "        for i in range(len(text)):\n",
    "            frequencies[circ_text[i:i+self.n]][circ_text[i+self.n]] += 1.0\n",
    "        self.probabilities_ = defaultdict(dict)\n",
    "        for ngram, counts in frequencies.items():\n",
    "            self.probabilities_[ngram][\"letters\"] = list(counts.keys())\n",
    "            probs = np.array(list(counts.values()))\n",
    "            probs /= np.sum(probs)\n",
    "            self.probabilities_[ngram][\"probs\"] = probs \n",
    "        self.starting_chars = text[:self.n]\n",
    "        self.frequencies_ = frequencies\n",
    "    def generate(self, seq_len):\n",
    "        current_string = self.starting_chars\n",
    "        word_list = list(current_string)\n",
    "        i = 0\n",
    "        while i <= seq_len:\n",
    "            letters = self.probabilities_[current_string]['letters'] \n",
    "            next_letter = random.choice(letters)\n",
    "            word_list.append(next_letter)\n",
    "            current_string = ''.join(word_list[-self.n:])\n",
    "            i += 1\n",
    "        return(''.join(word_list))\n",
    "        print(''.join(word_list))"
   ]
  },
  {
   "cell_type": "code",
   "execution_count": 24,
   "metadata": {},
   "outputs": [],
   "source": [
    "lyrics = pd.read_csv(\"data/lyrics.csv\")\n",
    "elton = lyrics[lyrics['artist']=='elton-john']"
   ]
  },
  {
   "cell_type": "code",
   "execution_count": 27,
   "metadata": {},
   "outputs": [
    {
     "data": {
      "text/plain": [
       "\"Blue jean hear\\nOnly you'll makes highway\\nBlue just laughs\\nThe boulevard is not that back sheet\\nHand\\nIn that baby, slowly\\nHold me down in that bad\\nPiano on that bad\\nPretty eyed, pirate songs that back she'\""
      ]
     },
     "execution_count": 27,
     "metadata": {},
     "output_type": "execute_result"
    }
   ],
   "source": [
    "text = elton[elton['song'] == 'tiny-dancer']['lyrics'][328501]\n",
    "\n",
    "model = MarkovModel(n=3)\n",
    "model.fit(text)\n",
    "model.generate(200)"
   ]
  }
 ],
 "metadata": {
  "kernelspec": {
   "display_name": "Python 3",
   "language": "python",
   "name": "python3"
  },
  "language_info": {
   "codemirror_mode": {
    "name": "ipython",
    "version": 3
   },
   "file_extension": ".py",
   "mimetype": "text/x-python",
   "name": "python",
   "nbconvert_exporter": "python",
   "pygments_lexer": "ipython3",
   "version": "3.6.5"
  }
 },
 "nbformat": 4,
 "nbformat_minor": 2
}
