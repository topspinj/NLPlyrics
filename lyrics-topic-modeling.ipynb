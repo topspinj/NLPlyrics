{
 "cells": [
  {
   "cell_type": "markdown",
   "metadata": {},
   "source": [
    "# Topic Modeling Song Lyrics\n",
    "\n",
    "We will perform topic modeling using two techniques: Latent Dirichlet Allocation (LDA) and Non-negative Matrix Factorization (NMF) using tools from scikit-learn and gensim. All topic modeling code is contained in the `topic_modeling.py` script."
   ]
  },
  {
   "cell_type": "code",
   "execution_count": 24,
   "metadata": {},
   "outputs": [],
   "source": [
    "import pandas as pd\n",
    "import numpy as np"
   ]
  },
  {
   "cell_type": "code",
   "execution_count": 25,
   "metadata": {},
   "outputs": [],
   "source": [
    "data = pd.read_csv('data/lyrics_bob-dylan.csv')\n",
    "data = data.dropna()"
   ]
  },
  {
   "cell_type": "markdown",
   "metadata": {},
   "source": [
    "## Perform TFIDF Vectorization\n",
    "\n",
    "Before we can start topic modelling, we must apply term frequency-inverse document frequency (TFIDF) vectorization to our tokenized dataset. TFIDF is used to determine how important a word is to a document in a collection or corpus ([ref](https://www.wikiwand.com/en/Tf%E2%80%93idf)). For example, let's say the word \"like\" is very popular across all songs. Using TFIDF, we downweight the importance of \"like\" because it is a word that occurs frequently within our corpus. Let's say \"democracy\" is another word within that song but it is very rare across all songs. Its importance would be upweighted using TFDIF because it doesn't occur very often in our corpus.\n",
    "\n",
    "Note: scikit-learn's `TfidfVectorizer` expects an array of strings. So, we will need to concatenate our tokenized words together as a string for TFIDF to work properly. That being said, our concatenated tokenized words are very different from our original lyrics because we filtered out stopwords and performed lemmatization."
   ]
  },
  {
   "cell_type": "code",
   "execution_count": 61,
   "metadata": {},
   "outputs": [
    {
     "name": "stdout",
     "output_type": "stream",
     "text": [
      "TFIDF matrix dimensions: (596, 2621)\n"
     ]
    }
   ],
   "source": [
    "from sklearn.feature_extraction.text import TfidfVectorizer\n",
    "\n",
    "tfidf = TfidfVectorizer(stop_words='english', min_df=3, max_df=0.9)\n",
    "X = tfidf.fit_transform(data['processed_lyrics'])\n",
    "print(\"TFIDF matrix dimensions:\",X.shape)"
   ]
  },
  {
   "cell_type": "code",
   "execution_count": 62,
   "metadata": {},
   "outputs": [
    {
     "data": {
      "text/plain": [
       "<596x2621 sparse matrix of type '<class 'numpy.float64'>'\n",
       "\twith 34582 stored elements in Compressed Sparse Row format>"
      ]
     },
     "execution_count": 62,
     "metadata": {},
     "output_type": "execute_result"
    }
   ],
   "source": [
    "X"
   ]
  },
  {
   "cell_type": "markdown",
   "metadata": {},
   "source": [
    "Now that we have our TFIDF matrix, we can start topic modeling with NMF and LDA."
   ]
  },
  {
   "cell_type": "markdown",
   "metadata": {},
   "source": [
    "## Non-negative Matrix Factorization (NMF)\n",
    "\n",
    "NMF starts with a Document-Word Matrix, $DWM_{ij}$, which represents the number of occurences of word $w_j$ in document $d_i$. We create our DWM using tf-idf or count vectorization. This matrix gets factorized into two smaller matrices: Word-Topic Matrix $WTM$ and Topic-Document Matrix $TDM$."
   ]
  },
  {
   "cell_type": "code",
   "execution_count": 63,
   "metadata": {},
   "outputs": [],
   "source": [
    "from sklearn.decomposition import NMF"
   ]
  },
  {
   "cell_type": "code",
   "execution_count": 66,
   "metadata": {},
   "outputs": [
    {
     "data": {
      "text/plain": [
       "NMF(alpha=0.0, beta_loss='frobenius', init=None, l1_ratio=0.0, max_iter=200,\n",
       "  n_components=8, random_state=None, shuffle=False, solver='cd',\n",
       "  tol=0.0001, verbose=0)"
      ]
     },
     "execution_count": 66,
     "metadata": {},
     "output_type": "execute_result"
    }
   ],
   "source": [
    "k_topics = 8\n",
    "nmf = NMF(n_components=k_topics)\n",
    "nmf.fit(X)"
   ]
  },
  {
   "cell_type": "code",
   "execution_count": 67,
   "metadata": {},
   "outputs": [
    {
     "name": "stdout",
     "output_type": "stream",
     "text": [
      "Topic 1: time say like know day come got long gone night heart eye tell man way hard good think away old\n",
      "Topic 2: instrumental babe lookin gather stone fall rain shine hey sky mornin awake light twice wait use walkin floor everybody ledge\n",
      "Topic 3: baby want got right come like mind honey night know wrong babe man unto stay really hurt lookin blue lover\n",
      "Topic 4: love let true know heart want make pure blue like world need seen tonight girl fool little anybody moon hold\n",
      "Topic 5: lord die home plow believe ground fixin day child hand worry hold yes jackson highway whistle lucky gone engine george\n",
      "Topic 6: gon mama let high trouble levee make know goin water best easy road wake yes tell walk friend way come\n",
      "Topic 7: knock heaven knockin door close trying let anymore walking like leave miss lucky orleans sister hurry baltimore wading missouri new\n",
      "Topic 8: said went man got asked took right little clothes dream war shelter started highway heard come god kinda seen came\n"
     ]
    }
   ],
   "source": [
    "tfidf_features = tfidf.get_feature_names()\n",
    "top_n_words = 20\n",
    "\n",
    "for i in range(0,k_topics):\n",
    "    topic = pd.DataFrame(data={'word':tfidf_features, 'weight':nmf.components_[i]})\n",
    "    sorted_topic = topic.sort_values('weight', ascending=False).head(top_n_words)\n",
    "    print(\"Topic %s:\" % (i+1), ' '.join(sorted_topic['word']))"
   ]
  },
  {
   "cell_type": "markdown",
   "metadata": {},
   "source": [
    "## Latent Dirichlet Allocation (LDA)"
   ]
  },
  {
   "cell_type": "code",
   "execution_count": 70,
   "metadata": {},
   "outputs": [
    {
     "data": {
      "text/plain": [
       "LatentDirichletAllocation(batch_size=128, doc_topic_prior=None,\n",
       "             evaluate_every=-1, learning_decay=0.7,\n",
       "             learning_method='online', learning_offset=10.0,\n",
       "             max_doc_update_iter=100, max_iter=10, mean_change_tol=0.001,\n",
       "             n_components=8, n_jobs=1, n_topics=None, perp_tol=0.1,\n",
       "             random_state=None, topic_word_prior=None,\n",
       "             total_samples=1000000.0, verbose=0)"
      ]
     },
     "execution_count": 70,
     "metadata": {},
     "output_type": "execute_result"
    }
   ],
   "source": [
    "from sklearn.decomposition import LatentDirichletAllocation as LDA\n",
    "\n",
    "k_topics = 8\n",
    "lda = LDA(n_components=k_topics, max_iter=10, learning_method='online')\n",
    "lda.fit(X)"
   ]
  },
  {
   "cell_type": "code",
   "execution_count": 71,
   "metadata": {},
   "outputs": [
    {
     "name": "stdout",
     "output_type": "stream",
     "text": [
      "Topic 0: guillotine unlike mouthpiece disillusioned limited scuff plier stuffed obscenity baptized handcuff remark honesty meantime despise unclear lodged outsider reappear sex\n",
      "Topic 1: knock knockin heaven stoned stone door congressman prophesize critic rapidly writer stalled rattle drenched senator breakfast admit libido ragin mortician\n",
      "Topic 2: ramble wan dawn break happens baby gon told day know say got quit old killed night babe played like line\n",
      "Topic 3: know got love like come baby time gon said say want man night let day tell heart gone way away\n",
      "Topic 4: jane blowing land fair babe come whistle maid queen beauty gypsy head gon summer like bright young true nothin little\n",
      "Topic 5: father seven billy broken glory good ship night drank mama danced dream sun path day wind tree best hour goin\n",
      "Topic 6: instrumental mood said water come let high lord risin gon low got child turn need trouble mind day hear little\n",
      "Topic 7: success failure speaks madam dangles ideal matchstick horseman quotation raven banker ceremony perfection conclusion statue valentine crumble rainy cloak niece\n"
     ]
    }
   ],
   "source": [
    "tfidf_features = tfidf.get_feature_names()\n",
    "top_n_words = 20\n",
    "for i in range(0,k_topics):\n",
    "    topic = pd.DataFrame(data={'word':tfidf_features, 'weight':lda.components_[i]})\n",
    "    sorted_topic = topic.sort_values('weight', ascending=False).head(top_n_words)\n",
    "    print(\"Topic %s:\" % i, ' '.join(sorted_topic['word']))"
   ]
  },
  {
   "cell_type": "code",
   "execution_count": 72,
   "metadata": {},
   "outputs": [
    {
     "data": {
      "text/html": [
       "\n",
       "<link rel=\"stylesheet\" type=\"text/css\" href=\"https://cdn.rawgit.com/bmabey/pyLDAvis/files/ldavis.v1.0.0.css\">\n",
       "\n",
       "\n",
       "<div id=\"ldavis_el9863448390655445146424493\"></div>\n",
       "<script type=\"text/javascript\">\n",
       "\n",
       "var ldavis_el9863448390655445146424493_data = {\"mdsDat\": {\"Freq\": [86.09300014096397, 2.160377056590499, 2.1059767973588235, 2.105794572579291, 2.0032404806254847, 1.8915738144816163, 1.8200188359952143, 1.8200183014051086], \"cluster\": [1, 1, 1, 1, 1, 1, 1, 1], \"topics\": [1, 2, 3, 4, 5, 6, 7, 8], \"x\": [14.272788047790527, 20.918560028076172, 53.36402130126953, 56.36619186401367, -30.773229598999023, -16.531700134277344, -11.104020118713379, 27.680124282836914], \"y\": [-1.5982824563980103, -46.289512634277344, -24.271190643310547, 14.82301139831543, 1.871839165687561, -34.66096115112305, 35.793704986572266, 41.54905700683594]}, \"tinfo\": {\"Category\": [\"Default\", \"Default\", \"Default\", \"Default\", \"Default\", \"Default\", \"Default\", \"Default\", \"Default\", \"Default\", \"Default\", \"Default\", \"Default\", \"Default\", \"Default\", \"Default\", \"Default\", \"Default\", \"Default\", \"Default\", \"Default\", \"Default\", \"Default\", \"Default\", \"Default\", \"Default\", \"Default\", \"Default\", \"Default\", \"Default\", \"Topic1\", \"Topic1\", \"Topic1\", \"Topic1\", \"Topic1\", \"Topic1\", \"Topic1\", \"Topic1\", \"Topic1\", \"Topic1\", \"Topic1\", \"Topic1\", \"Topic1\", \"Topic1\", \"Topic1\", \"Topic1\", \"Topic1\", \"Topic1\", \"Topic1\", \"Topic1\", \"Topic1\", \"Topic1\", \"Topic1\", \"Topic1\", \"Topic1\", \"Topic1\", \"Topic1\", \"Topic1\", \"Topic1\", \"Topic1\", \"Topic2\", \"Topic2\", \"Topic2\", \"Topic2\", \"Topic2\", \"Topic2\", \"Topic2\", \"Topic2\", \"Topic2\", \"Topic2\", \"Topic2\", \"Topic2\", \"Topic2\", \"Topic2\", \"Topic2\", \"Topic2\", \"Topic2\", \"Topic2\", \"Topic2\", \"Topic2\", \"Topic2\", \"Topic2\", \"Topic2\", \"Topic2\", \"Topic2\", \"Topic2\", \"Topic2\", \"Topic2\", \"Topic2\", \"Topic2\", \"Topic2\", \"Topic3\", \"Topic3\", \"Topic3\", \"Topic3\", \"Topic3\", \"Topic3\", \"Topic3\", \"Topic3\", \"Topic3\", \"Topic3\", \"Topic3\", \"Topic3\", \"Topic3\", \"Topic3\", \"Topic3\", \"Topic3\", \"Topic3\", \"Topic3\", \"Topic3\", \"Topic3\", \"Topic3\", \"Topic3\", \"Topic3\", \"Topic3\", \"Topic3\", \"Topic3\", \"Topic3\", \"Topic3\", \"Topic3\", \"Topic3\", \"Topic3\", \"Topic4\", \"Topic4\", \"Topic4\", \"Topic4\", \"Topic4\", \"Topic4\", \"Topic4\", \"Topic4\", \"Topic4\", \"Topic4\", \"Topic4\", \"Topic4\", \"Topic4\", \"Topic4\", \"Topic4\", \"Topic4\", \"Topic4\", \"Topic4\", \"Topic4\", \"Topic4\", \"Topic4\", \"Topic4\", \"Topic4\", \"Topic4\", \"Topic4\", \"Topic4\", \"Topic4\", \"Topic4\", \"Topic4\", \"Topic4\", \"Topic4\", \"Topic4\", \"Topic4\", \"Topic4\", \"Topic4\", \"Topic4\", \"Topic4\", \"Topic4\", \"Topic4\", \"Topic4\", \"Topic4\", \"Topic4\", \"Topic4\", \"Topic4\", \"Topic5\", \"Topic5\", \"Topic5\", \"Topic5\", \"Topic5\", \"Topic5\", \"Topic5\", \"Topic5\", \"Topic5\", \"Topic5\", \"Topic5\", \"Topic5\", \"Topic5\", \"Topic5\", \"Topic5\", \"Topic5\", \"Topic5\", \"Topic5\", \"Topic5\", \"Topic5\", \"Topic5\", \"Topic5\", \"Topic5\", \"Topic5\", \"Topic5\", \"Topic5\", \"Topic5\", \"Topic5\", \"Topic5\", \"Topic5\", \"Topic5\", \"Topic5\", \"Topic5\", \"Topic5\", \"Topic5\", \"Topic5\", \"Topic5\", \"Topic5\", \"Topic5\", \"Topic5\", \"Topic5\", \"Topic5\", \"Topic5\", \"Topic5\", \"Topic5\", \"Topic5\", \"Topic5\", \"Topic5\", \"Topic5\", \"Topic5\", \"Topic5\", \"Topic5\", \"Topic5\", \"Topic5\", \"Topic5\", \"Topic5\", \"Topic5\", \"Topic5\", \"Topic5\", \"Topic5\", \"Topic5\", \"Topic5\", \"Topic5\", \"Topic5\", \"Topic5\", \"Topic5\", \"Topic5\", \"Topic5\", \"Topic5\", \"Topic5\", \"Topic5\", \"Topic5\", \"Topic5\", \"Topic5\", \"Topic5\", \"Topic5\", \"Topic5\", \"Topic5\", \"Topic5\", \"Topic5\", \"Topic5\", \"Topic5\", \"Topic5\", \"Topic5\", \"Topic5\", \"Topic5\", \"Topic5\", \"Topic5\", \"Topic5\", \"Topic5\", \"Topic6\", \"Topic6\", \"Topic6\", \"Topic6\", \"Topic6\", \"Topic6\", \"Topic6\", \"Topic6\", \"Topic6\", \"Topic6\", \"Topic6\", \"Topic6\", \"Topic6\", \"Topic6\", \"Topic6\", \"Topic6\", \"Topic6\", \"Topic6\", \"Topic6\", \"Topic6\", \"Topic6\", \"Topic6\", \"Topic6\", \"Topic6\", \"Topic6\", \"Topic6\", \"Topic6\", \"Topic6\", \"Topic6\", \"Topic6\", \"Topic6\", \"Topic6\", \"Topic6\", \"Topic6\", \"Topic6\", \"Topic6\", \"Topic6\", \"Topic6\", \"Topic6\", \"Topic6\", \"Topic6\", \"Topic6\", \"Topic6\", \"Topic6\", \"Topic6\", \"Topic6\", \"Topic6\", \"Topic6\", \"Topic6\", \"Topic6\", \"Topic6\", \"Topic6\", \"Topic6\", \"Topic6\", \"Topic6\", \"Topic6\", \"Topic6\", \"Topic6\", \"Topic6\", \"Topic6\", \"Topic6\", \"Topic6\", \"Topic6\", \"Topic6\", \"Topic6\", \"Topic6\", \"Topic6\", \"Topic6\", \"Topic6\", \"Topic6\", \"Topic6\", \"Topic6\", \"Topic6\", \"Topic6\", \"Topic7\", \"Topic7\", \"Topic7\", \"Topic7\", \"Topic7\", \"Topic7\", \"Topic7\", \"Topic7\", \"Topic7\", \"Topic7\", \"Topic7\", \"Topic7\", \"Topic7\", \"Topic7\", \"Topic7\", \"Topic7\", \"Topic7\", \"Topic7\", \"Topic7\", \"Topic7\", \"Topic7\", \"Topic7\", \"Topic7\", \"Topic7\", \"Topic7\", \"Topic7\", \"Topic7\", \"Topic7\", \"Topic7\", \"Topic7\", \"Topic7\", \"Topic7\", \"Topic7\", \"Topic7\", \"Topic7\", \"Topic7\", \"Topic7\", \"Topic7\", \"Topic7\", \"Topic7\", \"Topic7\", \"Topic7\", \"Topic7\", \"Topic7\", \"Topic7\", \"Topic7\", \"Topic7\", \"Topic7\", \"Topic7\", \"Topic7\", \"Topic7\", \"Topic7\", \"Topic7\", \"Topic7\", \"Topic7\", \"Topic7\", \"Topic7\", \"Topic7\", \"Topic7\", \"Topic7\", \"Topic7\", \"Topic7\", \"Topic7\", \"Topic7\", \"Topic7\", \"Topic7\", \"Topic7\", \"Topic7\", \"Topic7\", \"Topic7\", \"Topic7\", \"Topic7\", \"Topic7\", \"Topic7\", \"Topic7\", \"Topic7\", \"Topic7\", \"Topic7\", \"Topic7\", \"Topic7\", \"Topic7\", \"Topic7\", \"Topic7\", \"Topic7\", \"Topic7\", \"Topic7\", \"Topic7\", \"Topic7\", \"Topic7\", \"Topic8\", \"Topic8\", \"Topic8\", \"Topic8\", \"Topic8\", \"Topic8\", \"Topic8\", \"Topic8\", \"Topic8\", \"Topic8\", \"Topic8\", \"Topic8\", \"Topic8\", \"Topic8\", \"Topic8\", \"Topic8\", \"Topic8\", \"Topic8\", \"Topic8\", \"Topic8\", \"Topic8\", \"Topic8\", \"Topic8\", \"Topic8\", \"Topic8\", \"Topic8\", \"Topic8\", \"Topic8\", \"Topic8\", \"Topic8\", \"Topic8\", \"Topic8\", \"Topic8\", \"Topic8\", \"Topic8\", \"Topic8\", \"Topic8\", \"Topic8\", \"Topic8\", \"Topic8\", \"Topic8\", \"Topic8\", \"Topic8\", \"Topic8\", \"Topic8\", \"Topic8\", \"Topic8\", \"Topic8\", \"Topic8\", \"Topic8\", \"Topic8\", \"Topic8\", \"Topic8\", \"Topic8\", \"Topic8\", \"Topic8\", \"Topic8\", \"Topic8\", \"Topic8\", \"Topic8\", \"Topic8\", \"Topic8\", \"Topic8\", \"Topic8\", \"Topic8\", \"Topic8\", \"Topic8\", \"Topic8\", \"Topic8\", \"Topic8\", \"Topic8\", \"Topic8\", \"Topic8\", \"Topic8\", \"Topic8\", \"Topic8\", \"Topic8\", \"Topic8\", \"Topic8\", \"Topic8\", \"Topic8\", \"Topic8\", \"Topic8\", \"Topic8\", \"Topic8\", \"Topic8\"], \"Freq\": [2.0, 4.0, 6.0, 3.0, 1.0, 2.0, 2.0, 1.0, 5.0, 4.0, 5.0, 5.0, 6.0, 5.0, 5.0, 6.0, 5.0, 5.0, 6.0, 6.0, 5.0, 6.0, 6.0, 5.0, 6.0, 4.0, 6.0, 5.0, 5.0, 6.0, 17.62830860623572, 17.283068085872724, 16.837958514775877, 16.55630369564354, 15.608743089392602, 13.916153205466863, 13.639714614849213, 13.346439906738501, 13.381631257074025, 13.254084391516164, 11.332373098852608, 11.310797315944992, 10.567387867123953, 10.623626195613843, 10.251430788914007, 10.45153317392567, 9.374604652728028, 9.23531907796403, 9.009614139595712, 8.954190997133516, 8.453901913394642, 8.398347343821579, 7.74642909591707, 7.458373458285158, 7.394949629200826, 7.378036882409823, 7.263986151224509, 7.243574237429943, 7.117042217455305, 7.020411772044074, 0.15841280122810186, 0.15825076424918694, 0.09526233510113544, 0.0952483379804047, 0.09522785215236888, 0.09527176325018238, 0.09499761431566242, 0.09525608142770414, 0.09542869435905953, 0.09501524988441297, 0.09268419998339358, 0.09244384611355042, 0.09253268240456931, 0.09222345854028702, 0.09183012789317982, 0.09166869486330115, 0.08920225499691206, 0.0906770039992848, 0.08758880614463754, 0.08626940937314857, 0.08629986789033527, 0.08349497083431695, 0.08520672231278002, 0.08315024668180741, 0.08141273234973175, 0.08085805052403258, 0.07828717721786381, 0.07786298046567632, 0.0861641712076622, 0.08090705661194474, 0.12603258205978196, 0.06400655124579756, 0.06399065416781917, 0.06397008054970041, 0.06383129019252574, 0.0641007931031647, 0.06383563396906514, 0.06376716915303833, 0.06371204538046046, 0.06375779126679362, 0.06358083266843158, 0.06367985718240125, 0.06379673928279805, 0.06371146029861871, 0.06360735805027382, 0.06361813046190315, 0.06390250859513005, 0.06349325232693047, 0.063881579308073, 0.06360559744329644, 0.06363048258124392, 0.06349397575552335, 0.06351966558115697, 0.06362432935644766, 0.06355161789461887, 0.06337618290860876, 0.06331376061102625, 0.06308295346164897, 0.06329638467833512, 0.06326560490332393, 0.0632965900817178, 0.0634100593030572, 0.20293829732522806, 0.35301311145874836, 0.5503992248197126, 0.10630138989659353, 0.10602207859131743, 0.10580049135128303, 0.10570118259302054, 0.10101221806884143, 0.10136023853666797, 0.09889186880356535, 0.09437238709446372, 0.06397936002428169, 0.08589185388801086, 0.03992468846469561, 0.03961348370146815, 0.03936063289111825, 0.03927991284719114, 0.03893408186283689, 0.02651389027411725, 0.026581496691074034, 0.026671947299947017, 0.02645110500318014, 0.026494632283323587, 0.026537068214263323, 0.02637960832878681, 0.026422323024764244, 0.026448014752555503, 0.026444047604368887, 0.026217265624378188, 0.02630520405214051, 0.026619066780872457, 0.23215988141399985, 0.17468286838631408, 0.03991588312074821, 0.04332321064818904, 0.1595994366956961, 0.03591453354978785, 0.0340106512640482, 0.032574507762867494, 0.0328216807363506, 0.03116814459507393, 0.03104836702417887, 0.03131813012062069, 0.03317893719555709, 1.8075906286721268, 0.29170514511042805, 0.025022114732454245, 0.024883821283591356, 0.02487804788044177, 0.024870322219059174, 0.025277131216318166, 0.02522292771411384, 0.0252145807083622, 0.02508543220410959, 0.02533188854803355, 0.025103049313067425, 0.025049776189821238, 0.025082075837263317, 0.02506311032554561, 0.02497575258604814, 0.025103238031262756, 0.025071181355801327, 0.025029627076864014, 0.025026883567115528, 0.02489991189813508, 0.02485325904091831, 0.02484039681568635, 0.025054997990191286, 0.024931481298099824, 0.02501001333006661, 0.02493070621804299, 0.024929654645360833, 0.024832168259053503, 0.024972626599250626, 0.025023979287707634, 0.025059199968392887, 0.02501488564064617, 0.026592045527051487, 0.02520139994730735, 0.025063574116981124, 0.025191857853445628, 0.025264156397705743, 0.027559465625463606, 0.02576182969502615, 0.025757315879581476, 0.025730067433848584, 0.02569735022668937, 0.02905699659227831, 0.02639025055624704, 0.02580317434004601, 0.02566638402953665, 0.025656258912191216, 0.02565948180075707, 0.025654200874163202, 0.025741540731387576, 0.029666562338547506, 0.026878310938319612, 0.026206924667977912, 0.027509761375436797, 0.025900200555314733, 0.025876062639187635, 0.025493377444966547, 0.02636532825555406, 0.027438225619109368, 0.026468820861936925, 0.027604355671064763, 0.028517482469303357, 0.026311089194763826, 0.02617532739518874, 0.026159149684811294, 0.027360318942730395, 0.027590305895976195, 0.02775069475940822, 0.027339221265450356, 0.027200351907761263, 0.026982236872450067, 0.026671563884614707, 0.02660128138604407, 0.026367767727557685, 0.026620180459901572, 0.026841051428361573, 0.026392874693286977, 0.02754713062811757, 0.027464157814037878, 0.02718152930857165, 0.02714350290512969, 0.027097332492706416, 0.027166445987633084, 0.02676956243498576, 0.026890165871280104, 0.02679633356792147, 0.026725192448153117, 0.026720721879481157, 0.02665232228616727, 0.2206519432719474, 0.16634804694465638, 0.024517969371894897, 0.02428184248353403, 0.024228213504747045, 0.024178263207573714, 0.02442098543162158, 0.024395906907021696, 0.024317647714133504, 0.024236056680821072, 0.024237114356486164, 0.02431668371229654, 0.02426962619692517, 0.024243699413897084, 0.02437578412270118, 0.02423923805951459, 0.0241706544459997, 0.02421735666351674, 0.024214420155937527, 0.024101497444204766, 0.024199577302254107, 0.02415910249003896, 0.024240327161718457, 0.02418915475551614, 0.024115636257853727, 0.024102698308674043, 0.024082628253255724, 0.024206743371418274, 0.02415428384832628, 0.02422934166105512, 0.14318033664761792, 0.12520460648416923, 0.03788400747159847, 0.024171233072813367, 0.024214117806779456, 0.024329395080756325, 0.02435501594968432, 0.024516083537200636, 0.02446439845478813, 0.026585442170041745, 0.02630287556744018, 0.024402801721993397, 0.025647242438586015, 0.024571912812170717, 0.02645454183682044, 0.027042833752783255, 0.02577497793871092, 0.02532594454779614, 0.02514794690640395, 0.024591959959771058, 0.027839597121496223, 0.027498719493443905, 0.025954785034791733, 0.02582571396145618, 0.026047663079412343, 0.02592396852835152, 0.02593041942835232, 0.024662895622789602, 0.026982383813989493, 0.026495301961732515, 0.02611168999697803, 0.02686831622952373, 0.0267105002966337, 0.02632195278745156, 0.025952205674178316, 0.025428978296706827, 0.025434259680976255, 0.026635615744522997, 0.026322179566874045, 0.026253731875078904, 0.02567866628749189, 0.025986134939591163, 0.025957841288096046, 0.025770383771475006, 0.023584057573940317, 0.02353421668885257, 0.023403814142431742, 0.023436615904371072, 0.023747186940733404, 0.023530020703358964, 0.023610368056929582, 0.023725492227114016, 0.023627983170377908, 0.023478459420594355, 0.023802137895011257, 0.023548396051657646, 0.023647720062085115, 0.023469829360024275, 0.02351135670182241, 0.02368906343762313, 0.0235908528940206, 0.023480492977373726, 0.023498692290515925, 0.023405984216119342, 0.02339712762170529, 0.023398546969839562, 0.023338426294929163, 0.023487863019050266, 0.023468998708810685, 0.023438965906241976, 0.023378047565794056, 0.02349662946105584, 0.023418171690505696, 0.023322787840239757, 0.023497940191590568, 0.023516515365825004, 0.023424600779890052, 0.02363720669754929, 0.023722835848676505, 0.02363447620961979, 0.02363722027895659, 0.02944024277070642, 0.025280403174926847, 0.024623987232632275, 0.02391176766204198, 0.024212622739148607, 0.02420281781947184, 0.02380143532593814, 0.02617438496789726, 0.025218786547461253, 0.026168699047180888, 0.024173605836261894, 0.02448436514368111, 0.024540113342901626, 0.025668121727913672, 0.024743699579866007, 0.024599784356423956, 0.024428130370131765, 0.025700518996591145, 0.024325034719623752, 0.0250704421308735, 0.025545984744455567, 0.024260233096775156, 0.02405933572258713, 0.02426827617776475, 0.024116257460183324, 0.024059270530087776, 0.02400289557324408, 0.02561886766463181, 0.02522572825945763, 0.024768302799568907, 0.02459801754727552, 0.024334867187776648, 0.024416917376589794, 0.024605746593383333, 0.02452547572194001, 0.02540354063990632, 0.025128369817060656, 0.025071224315836374, 0.024879093176960545, 0.024854621806319397, 0.02495041411689283, 0.02485703139277927, 0.02481900513172105, 0.024838713298300934, 0.02479378624292856, 0.025019865827864037, 0.024787218824284928, 0.024772860499023254, 0.024761921129147147, 0.0247401612976482, 0.0247321974163071, 0.024697437775015207, 0.023704697518894133, 0.023667818154558772, 0.023606952075112087, 0.02351264921410416, 0.02380079406491868, 0.02365173557548203, 0.02355280255425489, 0.023700610914595396, 0.023581421924873117, 0.02361817848533947, 0.023563159131279477, 0.023746164793811895, 0.02371536290947789, 0.023526590482314414, 0.023461566434803564, 0.023644590991493138, 0.023612826797756864, 0.023606878357231794, 0.02354380027564845, 0.023473241481322252, 0.023531315225524683, 0.02351027049778658, 0.02352269883045586, 0.023499505383712004, 0.023432245121919455, 0.023496657127852198, 0.023562745689080292, 0.023607742758595868, 0.023405305839251853, 0.023615554000857186, 0.023646678990099673, 0.0235942364676497, 0.02365909726645685, 0.02381737619205545, 0.02375991368231381, 0.02374869904592407, 0.02385776750682023, 0.02366424388118287, 0.02392438687306779, 0.023790428645756104, 0.02373007316153323, 0.026067084607490024, 0.023849651446663858, 0.023887537359227554, 0.02393337857174551, 0.023863358387648116, 0.023660466372059104, 0.024765972700603107, 0.0240354294843907, 0.024058079925536043, 0.024053714496483344, 0.024563136090692324, 0.02395361014803991, 0.02394377670087779, 0.02400702382832747, 0.023806692875806872, 0.024010493633137026, 0.02392574135345487, 0.02381921360990718, 0.024671110913689495, 0.024352219598139224, 0.024353686433043663, 0.02433126582843081, 0.024062877062813508, 0.024058717322641827, 0.024006018359039667, 0.023928178277674145, 0.0245244900149702, 0.02418846925632035, 0.024008285028253494, 0.024513418435070548, 0.02416946844726805, 0.02413820693693278, 0.024132641083585395, 0.02410926799035554, 0.024094734649700727, 0.024091528541485902, 0.024085955289791437, 0.024081220681296273, 0.024073198457231805, 0.024064049093292458, 0.024043281187400782, 0.024033172985956315, 0.0240160505694323, 0.02401346558934369, 0.024010755624911083], \"Term\": [\"instrumental\", \"heaven\", \"door\", \"stone\", \"knock\", \"break\", \"dawn\", \"wan\", \"wind\", \"mama\", \"light\", \"people\", \"feel\", \"head\", \"god\", \"need\", \"high\", \"sun\", \"home\", \"went\", \"remember\", \"woman\", \"town\", \"dead\", \"life\", \"street\", \"hard\", \"everybody\", \"new\", \"road\", \"know\", \"got\", \"love\", \"like\", \"come\", \"baby\", \"time\", \"said\", \"gon\", \"say\", \"want\", \"man\", \"let\", \"night\", \"tell\", \"day\", \"heart\", \"gone\", \"way\", \"away\", \"right\", \"make\", \"long\", \"thing\", \"mind\", \"lord\", \"hand\", \"eye\", \"old\", \"good\", \"success\", \"failure\", \"ideal\", \"horseman\", \"quotation\", \"dangles\", \"banker\", \"matchstick\", \"madam\", \"raven\", \"ceremony\", \"conclusion\", \"perfection\", \"statue\", \"valentine\", \"crumble\", \"cloak\", \"rainy\", \"niece\", \"dagger\", \"grudge\", \"wink\", \"argue\", \"expecting\", \"candle\", \"violence\", \"hammer\", \"repeat\", \"ramble\", \"tremble\", \"speaks\", \"unlike\", \"mouthpiece\", \"disillusioned\", \"stuffed\", \"guillotine\", \"plier\", \"baptized\", \"remark\", \"handcuff\", \"sex\", \"meantime\", \"obscenity\", \"honesty\", \"outsider\", \"lodged\", \"limited\", \"jealously\", \"scuff\", \"reappear\", \"despise\", \"dodge\", \"eclipse\", \"unclear\", \"downfall\", \"prof\", \"invest\", \"strict\", \"startle\", \"bitterly\", \"vault\", \"insure\", \"stoned\", \"knockin\", \"knock\", \"congressman\", \"prophesize\", \"critic\", \"rapidly\", \"stalled\", \"writer\", \"rattle\", \"drenched\", \"breakfast\", \"senator\", \"libido\", \"mortician\", \"tattered\", \"subjugation\", \"sniffin\", \"mouthpiece\", \"dodge\", \"startle\", \"disillusioned\", \"handcuff\", \"downfall\", \"sex\", \"meantime\", \"eclipse\", \"strict\", \"stuffed\", \"plier\", \"insure\", \"heaven\", \"stone\", \"ragin\", \"admit\", \"door\", \"criticize\", \"pen\", \"badge\", \"accept\", \"rank\", \"command\", \"heed\", \"anymore\", \"instrumental\", \"mood\", \"subjugation\", \"libido\", \"mortician\", \"tattered\", \"baptized\", \"honesty\", \"guillotine\", \"mouthpiece\", \"gargle\", \"jealously\", \"sex\", \"plier\", \"lodged\", \"remark\", \"downfall\", \"prof\", \"eclipse\", \"breakfast\", \"disillusioned\", \"unlike\", \"stuffed\", \"scuff\", \"meantime\", \"unclear\", \"dodge\", \"reappear\", \"outsider\", \"bitterly\", \"vault\", \"idolize\", \"propaganda\", \"stall\", \"matchstick\", \"sniffin\", \"dangles\", \"noon\", \"risin\", \"conceivable\", \"clarksdale\", \"mustang\", \"lewis\", \"water\", \"worried\", \"rear\", \"turner\", \"charles\", \"warble\", \"vicksburg\", \"englishman\", \"said\", \"movin\", \"swing\", \"low\", \"preachin\", \"breakin\", \"blink\", \"pie\", \"child\", \"load\", \"high\", \"come\", \"adore\", \"wee\", \"unkind\", \"turn\", \"lord\", \"let\", \"need\", \"trouble\", \"hang\", \"weekend\", \"gypsy\", \"favor\", \"chance\", \"yeah\", \"hmm\", \"gon\", \"got\", \"mind\", \"hear\", \"little\", \"day\", \"bell\", \"man\", \"know\", \"god\", \"went\", \"honey\", \"ramble\", \"wan\", \"tattered\", \"libido\", \"subjugation\", \"mortician\", \"jealously\", \"sex\", \"disillusioned\", \"stuffed\", \"mouthpiece\", \"dodge\", \"lodged\", \"plier\", \"scuff\", \"meantime\", \"handcuff\", \"despise\", \"prof\", \"remark\", \"guillotine\", \"honesty\", \"limited\", \"downfall\", \"obscenity\", \"eclipse\", \"reappear\", \"gargle\", \"invest\", \"vault\", \"dawn\", \"break\", \"happens\", \"startle\", \"idolize\", \"sniffin\", \"raven\", \"spiritual\", \"sighing\", \"quit\", \"played\", \"rapidly\", \"moore\", \"dy\", \"killed\", \"told\", \"levee\", \"scarlet\", \"reflection\", \"parlor\", \"baby\", \"gon\", \"billy\", \"dollar\", \"shall\", \"anybody\", \"tomorrow\", \"strip\", \"day\", \"old\", \"line\", \"know\", \"say\", \"babe\", \"bell\", \"save\", \"momma\", \"got\", \"night\", \"like\", \"early\", \"tell\", \"said\", \"world\", \"libido\", \"mortician\", \"subjugation\", \"tattered\", \"despise\", \"unlike\", \"outsider\", \"invest\", \"breakfast\", \"mouthpiece\", \"propaganda\", \"honesty\", \"startle\", \"jealously\", \"handcuff\", \"vault\", \"limited\", \"lodged\", \"reappear\", \"disillusioned\", \"sex\", \"remark\", \"stuffed\", \"obscenity\", \"guillotine\", \"dodge\", \"plier\", \"scuff\", \"prof\", \"baptized\", \"gargle\", \"insure\", \"unclear\", \"sniffin\", \"matchstick\", \"horseman\", \"madam\", \"father\", \"drank\", \"headed\", \"naturally\", \"tularosa\", \"finale\", \"judgement\", \"seven\", \"danced\", \"billy\", \"rio\", \"lingered\", \"foggy\", \"glory\", \"paint\", \"advance\", \"compared\", \"broken\", \"afford\", \"path\", \"ship\", \"garrett\", \"shaking\", \"spoken\", \"artist\", \"overflow\", \"proudly\", \"good\", \"mama\", \"santa\", \"playing\", \"reward\", \"survive\", \"riding\", \"dreamed\", \"night\", \"dream\", \"sun\", \"tree\", \"hour\", \"wind\", \"best\", \"rock\", \"goin\", \"king\", \"day\", \"remember\", \"dark\", \"hang\", \"sea\", \"tried\", \"like\", \"libido\", \"mortician\", \"subjugation\", \"tattered\", \"obscenity\", \"plier\", \"unlike\", \"prof\", \"sex\", \"outsider\", \"remark\", \"startle\", \"limited\", \"mouthpiece\", \"stuffed\", \"downfall\", \"despise\", \"guillotine\", \"lodged\", \"disillusioned\", \"handcuff\", \"dodge\", \"breakfast\", \"eclipse\", \"baptized\", \"strict\", \"bitterly\", \"vault\", \"meantime\", \"idolize\", \"insure\", \"propaganda\", \"sniffin\", \"horseman\", \"quotation\", \"prophesize\", \"banjo\", \"ideal\", \"conclusion\", \"advertising\", \"rapidly\", \"jane\", \"preach\", \"feather\", \"labor\", \"pressure\", \"raven\", \"blowing\", \"fellow\", \"fog\", \"belle\", \"fair\", \"rambled\", \"deeper\", \"mark\", \"noose\", \"forest\", \"strolling\", \"wreck\", \"land\", \"maid\", \"whistle\", \"queen\", \"trial\", \"shout\", \"maiden\", \"rip\", \"babe\", \"beauty\", \"rounder\", \"come\", \"gypsy\", \"head\", \"gon\", \"summer\", \"like\", \"bright\", \"young\", \"true\", \"nothin\", \"little\", \"need\", \"pleasure\", \"threw\", \"beg\", \"life\"], \"Total\": [2.0, 4.0, 6.0, 3.0, 1.0, 2.0, 2.0, 1.0, 5.0, 4.0, 5.0, 5.0, 6.0, 5.0, 5.0, 6.0, 5.0, 5.0, 6.0, 6.0, 5.0, 6.0, 6.0, 5.0, 6.0, 4.0, 6.0, 5.0, 5.0, 6.0, 17.813985652181742, 17.470128647110393, 17.02228130033349, 16.745517203281853, 15.797404097978816, 14.099595455645694, 13.823342985828464, 13.531062458979573, 13.566871169241498, 13.438717450089822, 11.515727126260558, 11.496564231895006, 10.748824126888632, 10.809056604893662, 10.43219769903355, 10.636487062372735, 9.555840338180358, 9.417106848253928, 9.19013329397607, 9.134505487754282, 8.633970109748578, 8.580395098037153, 7.928615331773615, 7.637910697123479, 7.575890229104321, 7.559260406885808, 7.444275822032575, 7.42522506025363, 7.29907860102665, 7.200767546662339, 0.4922561631617616, 0.4925099496381294, 0.34935531662410735, 0.3496921453393975, 0.3496231809440753, 0.3501714489729285, 0.34925785316410973, 0.3504530694800179, 0.3512135858556406, 0.34970016162680984, 0.3945656251289458, 0.4135606456300221, 0.4151258108986864, 0.41595067290075255, 0.44572822333286133, 0.46119953175203215, 0.4498970203509928, 0.49070670129475796, 0.5029114084032102, 0.5443460571417333, 0.5489708256072383, 0.5398871707445503, 0.5605876553547084, 0.5479791959965957, 0.6062011419965015, 0.6028161928044693, 0.6006005892306565, 0.6253749748666743, 0.693548417994651, 0.6568582354893948, 1.043405097799172, 0.31887862218850815, 0.3192519244241802, 0.31946424495132264, 0.31879818135321564, 0.32089171016764867, 0.3199498656669626, 0.3198310476674663, 0.31958092269532107, 0.32030293730994436, 0.3194521103461735, 0.32017116049639816, 0.3208572054789137, 0.3205512216613663, 0.32010000593556454, 0.3202575694525089, 0.32171517600919775, 0.31973173038090635, 0.32172831343829533, 0.320633110338246, 0.3209626872146468, 0.3205853982531344, 0.3207381038397806, 0.3215233936705046, 0.32135647169513026, 0.32096085581665906, 0.32171395092348554, 0.32078227890099614, 0.3220694999312857, 0.3220046932367169, 0.32274026123692057, 0.3240247646834531, 0.45924164971671994, 0.8769736186097581, 1.8623418120310968, 0.36258718555728237, 0.364148276166377, 0.363745030227265, 0.3647428552815508, 0.405775472423876, 0.4089327429302443, 0.4427455639604349, 0.45693156724285516, 0.3209339871603682, 0.5036815527875725, 0.2935441517432885, 0.29414323350345706, 0.2942086118334764, 0.29377182262094464, 0.33504634380975573, 0.3192519244241802, 0.3205853982531344, 0.3220694999312857, 0.31946424495132264, 0.32030293730994436, 0.32135647169513026, 0.3194521103461735, 0.32017116049639816, 0.3207381038397806, 0.32078227890099614, 0.31879818135321564, 0.3199498656669626, 0.3240247646834531, 4.562617935937111, 3.710004560146879, 0.5505314605884476, 0.696490663168822, 6.782218304943994, 0.9034523751990599, 0.7943213352114575, 0.682532562689578, 0.896226864087916, 0.9148618222015518, 0.9595003173351908, 1.038102736570952, 1.9079264727323688, 2.062913160277333, 0.6026884813720628, 0.29377182262094464, 0.2935441517432885, 0.29414323350345706, 0.2942086118334764, 0.3198310476674663, 0.3205512216613663, 0.32089171016764867, 0.3192519244241802, 0.3224077749074858, 0.31973173038090635, 0.3194521103461735, 0.3199498656669626, 0.3202575694525089, 0.31958092269532107, 0.32135647169513026, 0.32096085581665906, 0.3207381038397806, 0.3209339871603682, 0.31946424495132264, 0.31887862218850815, 0.31879818135321564, 0.32172831343829533, 0.32017116049639816, 0.3215233936705046, 0.3205853982531344, 0.320633110338246, 0.32010000593556454, 0.3220046932367169, 0.32274026123692057, 0.32334520375222464, 0.3239731421527422, 0.44382130728082203, 0.3504530694800179, 0.33504634380975573, 0.3501714489729285, 0.37059999334320803, 1.2336728102378205, 0.5018840846818988, 0.5025248072252545, 0.5033722478010227, 0.5022476797496828, 4.461696539072552, 0.8497241853591989, 0.5575905276411218, 0.502545704608644, 0.502124636629957, 0.5034513823638486, 0.5024899533839935, 0.5475007512315704, 13.531062458979573, 1.558953080444163, 0.8591054881808283, 2.9214207833582275, 0.6622597989891796, 0.6590719467792929, 0.4597018200383334, 1.0681588507764324, 4.077330535413026, 1.246312412247098, 5.156182934603745, 15.797404097978816, 1.0978726107193097, 0.9500770883665447, 0.9348603050975651, 4.776025998786064, 7.559260406885808, 10.748824126888632, 6.0821906937498005, 4.945959627257213, 3.374634613131857, 2.0271601823018983, 2.1171359929851263, 1.3644908852087212, 2.3277711423037935, 3.538008244741657, 1.5652086235150344, 13.566871169241498, 17.470128647110393, 7.575890229104321, 7.122262181015076, 6.731569431032204, 10.636487062372735, 3.5477962079431213, 11.496564231895006, 17.813985652181742, 5.803801682494389, 6.57744417542025, 4.86715644297864, 0.693548417994651, 1.948690763868941, 0.2942086118334764, 0.2935441517432885, 0.29377182262094464, 0.29414323350345706, 0.31973173038090635, 0.3194521103461735, 0.31946424495132264, 0.31879818135321564, 0.3192519244241802, 0.3205853982531344, 0.3202575694525089, 0.3199498656669626, 0.32172831343829533, 0.32017116049639816, 0.32030293730994436, 0.3209626872146468, 0.32096085581665906, 0.31958092269532107, 0.32089171016764867, 0.3205512216613663, 0.32171517600919775, 0.32135647169513026, 0.3208572054789137, 0.3207381038397806, 0.320633110338246, 0.3224077749074858, 0.32171395092348554, 0.32274026123692057, 2.3002250045812085, 2.7181402762076656, 0.6149689232223534, 0.3220694999312857, 0.32334520375222464, 0.33504634380975573, 0.34970016162680984, 0.38468654686532705, 0.3752141042272928, 1.3950285604907053, 1.258215724583488, 0.3647428552815508, 0.9016946007280089, 0.4262572518433284, 1.9349558087600023, 3.5610975646844185, 1.1212817394758943, 0.9280428032616244, 0.7875243250656463, 0.45402944382685934, 14.099595455645694, 13.566871169241498, 2.287907795641506, 1.9689474070503914, 2.649118305003018, 2.4007668281437677, 2.665132575904586, 0.5049633576243903, 10.636487062372735, 7.29907860102665, 3.6851811002640567, 17.813985652181742, 13.438717450089822, 6.919724570096635, 3.5477962079431213, 1.4522532144296219, 1.6474101068476232, 17.470128647110393, 10.809056604893662, 16.745517203281853, 2.968917153265957, 10.43219769903355, 13.531062458979573, 6.671639225104276, 0.2935441517432885, 0.29414323350345706, 0.29377182262094464, 0.2942086118334764, 0.3209626872146468, 0.31887862218850815, 0.32010000593556454, 0.32171395092348554, 0.3209339871603682, 0.3192519244241802, 0.3239731421527422, 0.3205512216613663, 0.3220694999312857, 0.31973173038090635, 0.32030293730994436, 0.32274026123692057, 0.32171517600919775, 0.3202575694525089, 0.320633110338246, 0.31946424495132264, 0.3194521103461735, 0.31958092269532107, 0.31879818135321564, 0.3208572054789137, 0.32089171016764867, 0.3205853982531344, 0.3199498656669626, 0.32172831343829533, 0.32096085581665906, 0.3198310476674663, 0.3224077749074858, 0.3240247646834531, 0.3215233936705046, 0.33504634380975573, 0.3504530694800179, 0.3496921453393975, 0.3512135858556406, 3.1900819817271384, 0.8744530434913749, 0.6509927877434935, 0.4268245479734939, 0.5275524169364507, 0.5267213444148291, 0.39925125594939037, 2.1041615165447825, 1.0613230464968355, 2.287907795641506, 0.527215241135771, 0.7176121381687652, 0.7538701243931009, 1.8533303939837944, 0.9179743053789422, 0.7983124837339007, 0.7517493650962822, 2.686219639274308, 0.6851233099146251, 1.7156402729548812, 3.3778343226428924, 0.6557589430113325, 0.5385327406365976, 0.7242369411384729, 0.588826124026568, 0.5531158521130972, 0.5180843928001659, 7.200767546662339, 4.756551748156242, 1.906342637464122, 1.4197711255735352, 0.8292569584664865, 1.0096263701837769, 1.557309602731504, 1.3353818044125887, 10.809056604893662, 6.733858762034996, 5.517053455274873, 3.5705884643868133, 3.30069758701569, 5.49694409395052, 3.8051235115591986, 3.582399078590733, 4.46813936449961, 3.764629090639723, 10.636487062372735, 5.286661705812779, 3.9149146068967284, 3.374634613131857, 3.5256843674838305, 3.088178585748677, 16.745517203281853, 0.2935441517432885, 0.29414323350345706, 0.29377182262094464, 0.2942086118334764, 0.3208572054789137, 0.3199498656669626, 0.31887862218850815, 0.32096085581665906, 0.3194521103461735, 0.32010000593556454, 0.31958092269532107, 0.3220694999312857, 0.32171517600919775, 0.3192519244241802, 0.31879818135321564, 0.32135647169513026, 0.3209626872146468, 0.32089171016764867, 0.3202575694525089, 0.31946424495132264, 0.32030293730994436, 0.3205853982531344, 0.3209339871603682, 0.3207381038397806, 0.3198310476674663, 0.32078227890099614, 0.3220046932367169, 0.32274026123692057, 0.32017116049639816, 0.32334520375222464, 0.3240247646834531, 0.3239731421527422, 0.33504634380975573, 0.3496921453393975, 0.3496231809440753, 0.364148276166377, 0.3868326981925867, 0.34935531662410735, 0.4135606456300221, 0.3801645992439971, 0.3647428552815508, 2.245611120096882, 0.4123201857463447, 0.4337573126042001, 0.4781570034159971, 0.45729080575913106, 0.34970016162680984, 2.3389892791800886, 0.5960836098337656, 0.6390158159037332, 0.652761582981574, 1.8720730647040864, 0.5400394361203016, 0.5295000572161103, 0.6344370119090607, 0.4296011547815531, 0.6669647637313296, 0.558882789221616, 0.45079102588744957, 3.8193738670518798, 1.3686577293438742, 2.0863860769668805, 2.230458281832573, 0.9522222802537391, 0.9455611418759893, 0.7861327307072247, 0.5795783221082531, 6.919724570096635, 1.7627319945433826, 0.8792982895888117, 15.797404097978816, 2.1171359929851263, 5.690310913750986, 13.566871169241498, 1.9574630125989783, 16.745517203281853, 2.0451437519523696, 4.180188154820433, 6.61868314364615, 3.128407256018867, 6.731569431032204, 6.0821906937498005, 1.0377630000269245, 1.1833661222762297, 1.234535741550663, 6.507010598737601], \"loglift\": [30.0, 29.0, 28.0, 27.0, 26.0, 25.0, 24.0, 23.0, 22.0, 21.0, 20.0, 19.0, 18.0, 17.0, 16.0, 15.0, 14.0, 13.0, 12.0, 11.0, 10.0, 9.0, 8.0, 7.0, 6.0, 5.0, 4.0, 3.0, 2.0, 1.0, 0.1393, 0.139, 0.1389, 0.1384, 0.1377, 0.1366, 0.1364, 0.136, 0.136, 0.1359, 0.1337, 0.1335, 0.1327, 0.1324, 0.1323, 0.1322, 0.1306, 0.1302, 0.1299, 0.1298, 0.1287, 0.1283, 0.1265, 0.126, 0.1256, 0.1255, 0.1252, 0.125, 0.1245, 0.1244, 2.7011, 2.6996, 2.5354, 2.5343, 2.5343, 2.5332, 2.5329, 2.5322, 2.5319, 2.5318, 2.3863, 2.3367, 2.3339, 2.3285, 2.2551, 2.2192, 2.2168, 2.1463, 2.0871, 1.9928, 1.9847, 1.9683, 1.951, 1.9493, 1.8272, 1.826, 1.7973, 1.7515, 1.7493, 1.7407, 1.7212, 2.2546, 2.2531, 2.2522, 2.2521, 2.2497, 2.2485, 2.2478, 2.2478, 2.2462, 2.2461, 2.2454, 2.2451, 2.2447, 2.2445, 2.2442, 2.2441, 2.2438, 2.2437, 2.2428, 2.2422, 2.2412, 2.2411, 2.2403, 2.2397, 2.2382, 2.2348, 2.2341, 2.2335, 2.2332, 2.2314, 2.2292, 3.0438, 2.9505, 2.6415, 2.6335, 2.6266, 2.6256, 2.6219, 2.4699, 2.4656, 2.3615, 2.2832, 2.2478, 2.0916, 1.8654, 1.8556, 1.849, 1.8484, 1.7081, 1.3722, 1.3705, 1.3693, 1.3691, 1.3682, 1.3665, 1.3665, 1.3658, 1.365, 1.3647, 1.3623, 1.3621, 1.3613, 0.8823, 0.8047, 1.2364, 1.0831, 0.1111, 0.6354, 0.7097, 0.8182, 0.5534, 0.4811, 0.4296, 0.3595, -0.1914, 3.7783, 3.1847, 1.4474, 1.4426, 1.4403, 1.4398, 1.3725, 1.3681, 1.3667, 1.3667, 1.3667, 1.3659, 1.3647, 1.3644, 1.3627, 1.3613, 1.3608, 1.3608, 1.3598, 1.3591, 1.3586, 1.3586, 1.3583, 1.3578, 1.3577, 1.3566, 1.3564, 1.3562, 1.3539, 1.3536, 1.3534, 1.3529, 1.3492, 1.0956, 1.2781, 1.3176, 1.2785, 1.2247, 0.109, 0.9409, 0.9395, 0.9367, 0.9377, -1.1236, 0.4385, 0.8373, 0.9359, 0.9363, 0.9338, 0.9355, 0.8531, -2.2123, -0.15, 0.4205, -0.7549, 0.669, 0.6729, 1.0182, 0.2088, -1.0909, 0.0584, -1.3196, -2.4067, 0.1793, 0.3187, 0.3342, -1.2519, -1.7027, -2.0489, -1.4944, -1.2927, -0.9185, -0.4204, -0.4665, -0.036, -0.5606, -0.971, -0.1723, -2.2891, -2.545, -1.7198, -1.6594, -1.6047, -2.0597, -0.9764, -2.1476, -2.5891, -1.4703, -1.5956, -1.297, 2.8225, 1.5069, 1.4829, 1.4755, 1.4725, 1.4691, 1.3957, 1.3956, 1.3923, 1.391, 1.3897, 1.3888, 1.3879, 1.3878, 1.3876, 1.3869, 1.3836, 1.3835, 1.3834, 1.383, 1.383, 1.3824, 1.3821, 1.3811, 1.3796, 1.3795, 1.379, 1.3786, 1.3786, 1.3785, 1.1911, 0.89, 1.1807, 1.3782, 1.376, 1.3452, 1.3034, 1.2147, 1.2375, 0.0075, 0.1, 1.2633, 0.4079, 1.1143, -0.3247, -0.9126, 0.1949, 0.3665, 0.5236, 1.052, -2.2597, -2.2335, -0.5113, -0.3661, -0.6543, -0.5606, -0.6648, 0.9486, -2.0091, -1.6508, -0.9819, -2.529, -2.2531, -1.604, -0.9501, -0.0772, -0.2031, -2.5182, -2.05, -2.4903, -0.7825, -2.0273, -2.2885, -1.5886, 1.4849, 1.4807, 1.4764, 1.4763, 1.4025, 1.3998, 1.3994, 1.3992, 1.3975, 1.3964, 1.3954, 1.3953, 1.3948, 1.3946, 1.3945, 1.3945, 1.3935, 1.3934, 1.393, 1.3927, 1.3923, 1.392, 1.3919, 1.3918, 1.3909, 1.3906, 1.39, 1.3895, 1.3885, 1.388, 1.3874, 1.3832, 1.387, 1.3549, 1.3135, 1.312, 1.3078, -0.6791, 0.4628, 0.7315, 1.1243, 0.9249, 0.9261, 1.1865, -0.3806, 0.2666, -0.4645, 0.924, 0.6284, 0.5814, -0.2732, 0.3927, 0.5266, 0.5797, -0.6431, 0.6682, -0.2195, -0.8782, 0.7094, 0.898, 0.6104, 0.8111, 0.8713, 0.9344, -1.6323, -1.2331, -0.3371, -0.0493, 0.4777, 0.2843, -0.1414, 0.0091, -2.0469, -1.5846, -1.3876, -0.9601, -0.8825, -1.3887, -1.0246, -0.9659, -1.186, -1.0165, -2.0461, -1.3563, -1.0565, -0.9084, -0.9531, -0.8209, -2.5129, 1.49, 1.4864, 1.4851, 1.4796, 1.405, 1.4016, 1.4008, 1.4005, 1.4002, 1.3997, 1.399, 1.399, 1.3988, 1.3985, 1.3971, 1.3969, 1.3968, 1.3968, 1.3961, 1.3955, 1.3954, 1.3936, 1.3931, 1.3927, 1.3926, 1.3924, 1.3914, 1.3911, 1.3904, 1.3895, 1.3887, 1.3867, 1.3558, 1.3197, 1.3175, 1.2763, 1.2204, 1.3142, 1.1564, 1.235, 1.2739, -0.4497, 1.1563, 1.1072, 1.0117, 1.0533, 1.3131, -0.5417, 0.7955, 0.7269, 0.7054, -0.3272, 0.8908, 0.9101, 0.7319, 1.1134, 0.6821, 0.8553, 1.0658, -1.0359, -0.0226, -0.4442, -0.5119, 0.3282, 0.335, 0.5175, 0.8191, -1.6361, -0.2824, 0.4056, -2.4621, -0.4664, -1.4564, -2.3255, -0.3905, -2.5376, -0.435, -1.1502, -1.6099, -0.8609, -1.6275, -1.5269, 0.2409, 0.1089, 0.0665, -1.5958], \"logprob\": [30.0, 29.0, 28.0, 27.0, 26.0, 25.0, 24.0, 23.0, 22.0, 21.0, 20.0, 19.0, 18.0, 17.0, 16.0, 15.0, 14.0, 13.0, 12.0, 11.0, 10.0, 9.0, 8.0, 7.0, 6.0, 5.0, 4.0, 3.0, 2.0, 1.0, -5.1119, -5.1317, -5.1578, -5.1747, -5.2336, -5.3484, -5.3684, -5.3902, -5.3875, -5.3971, -5.5538, -5.5557, -5.6237, -5.6184, -5.654, -5.6347, -5.7434, -5.7584, -5.7831, -5.7893, -5.8468, -5.8534, -5.9342, -5.9721, -5.9806, -5.9829, -5.9985, -6.0013, -6.0189, -6.0326, -6.1388, -6.1399, -6.6474, -6.6476, -6.6478, -6.6473, -6.6502, -6.6475, -6.6457, -6.65, -6.6748, -6.6774, -6.6765, -6.6798, -6.6841, -6.6859, -6.7131, -6.6967, -6.7314, -6.7466, -6.7462, -6.7793, -6.759, -6.7834, -6.8045, -6.8113, -6.8437, -6.8491, -6.7478, -6.8107, -6.3675, -7.0196, -7.0198, -7.0201, -7.0223, -7.0181, -7.0222, -7.0233, -7.0242, -7.0234, -7.0262, -7.0247, -7.0228, -7.0242, -7.0258, -7.0256, -7.0212, -7.0276, -7.0215, -7.0258, -7.0254, -7.0276, -7.0272, -7.0255, -7.0267, -7.0294, -7.0304, -7.0341, -7.0307, -7.0312, -7.0307, -7.0289, -5.8655, -5.3119, -4.8678, -6.5122, -6.5148, -6.5169, -6.5178, -6.5632, -6.5598, -6.5844, -6.6312, -7.0199, -6.7254, -7.4915, -7.4993, -7.5057, -7.5077, -7.5166, -7.9008, -7.8982, -7.8948, -7.9032, -7.9015, -7.8999, -7.9059, -7.9042, -7.9033, -7.9034, -7.912, -7.9087, -7.8968, -5.731, -6.0155, -7.4917, -7.4098, -6.1058, -7.5973, -7.6518, -7.6949, -7.6874, -7.7391, -7.7429, -7.7343, -7.6765, -3.6288, -5.4528, -7.9088, -7.9143, -7.9145, -7.9148, -7.8986, -7.9008, -7.9011, -7.9062, -7.8965, -7.9055, -7.9077, -7.9064, -7.9071, -7.9106, -7.9055, -7.9068, -7.9085, -7.9086, -7.9137, -7.9155, -7.9161, -7.9075, -7.9124, -7.9092, -7.9124, -7.9125, -7.9164, -7.9107, -7.9087, -7.9073, -7.9091, -7.8479, -7.9016, -7.9071, -7.902, -7.8991, -7.8122, -7.8796, -7.8798, -7.8809, -7.8821, -7.7593, -7.8555, -7.878, -7.8833, -7.8837, -7.8836, -7.8838, -7.8804, -7.7385, -7.8372, -7.8625, -7.814, -7.8743, -7.8752, -7.8901, -7.8565, -7.8166, -7.8526, -7.8106, -7.778, -7.8585, -7.8637, -7.8643, -7.8194, -7.8111, -7.8053, -7.8202, -7.8253, -7.8333, -7.8449, -7.8476, -7.8564, -7.8469, -7.8386, -7.8554, -7.8126, -7.8156, -7.826, -7.8274, -7.8291, -7.8265, -7.8413, -7.8368, -7.8403, -7.8429, -7.8431, -7.8456, -5.6746, -5.9571, -7.8718, -7.8814, -7.8836, -7.8857, -7.8757, -7.8768, -7.88, -7.8833, -7.8833, -7.88, -7.8819, -7.883, -7.8776, -7.8832, -7.886, -7.8841, -7.8842, -7.8889, -7.8848, -7.8865, -7.8831, -7.8853, -7.8883, -7.8888, -7.8897, -7.8845, -7.8867, -7.8836, -6.1071, -6.2412, -7.4366, -7.886, -7.8842, -7.8795, -7.8784, -7.8718, -7.8739, -7.7908, -7.8015, -7.8765, -7.8267, -7.8696, -7.7957, -7.7737, -7.8218, -7.8393, -7.8464, -7.8687, -7.7447, -7.757, -7.8148, -7.8198, -7.8112, -7.816, -7.8158, -7.8659, -7.776, -7.7942, -7.8088, -7.7802, -7.7861, -7.8008, -7.8149, -7.8353, -7.8351, -7.7889, -7.8008, -7.8034, -7.8255, -7.8136, -7.8147, -7.8219, -7.872, -7.8741, -7.8797, -7.8783, -7.8651, -7.8743, -7.8709, -7.8661, -7.8702, -7.8765, -7.8628, -7.8735, -7.8693, -7.8769, -7.8751, -7.8676, -7.8717, -7.8764, -7.8757, -7.8796, -7.88, -7.8799, -7.8825, -7.8761, -7.8769, -7.8782, -7.8808, -7.8757, -7.8791, -7.8832, -7.8757, -7.8749, -7.8788, -7.8698, -7.8662, -7.8699, -7.8698, -7.6502, -7.8026, -7.8289, -7.8582, -7.8457, -7.8461, -7.8629, -7.7678, -7.805, -7.768, -7.8473, -7.8346, -7.8323, -7.7874, -7.824, -7.8299, -7.8369, -7.7861, -7.8411, -7.8109, -7.7921, -7.8438, -7.8521, -7.8434, -7.8497, -7.8521, -7.8544, -7.7893, -7.8047, -7.823, -7.8299, -7.8407, -7.8373, -7.8296, -7.8329, -7.7977, -7.8086, -7.8109, -7.8186, -7.8196, -7.8157, -7.8195, -7.821, -7.8202, -7.822, -7.8129, -7.8223, -7.8229, -7.8233, -7.8242, -7.8245, -7.8259, -7.8669, -7.8685, -7.8711, -7.8751, -7.8629, -7.8692, -7.8734, -7.8671, -7.8721, -7.8706, -7.8729, -7.8652, -7.8665, -7.8745, -7.8772, -7.8695, -7.8708, -7.8711, -7.8737, -7.8767, -7.8743, -7.8752, -7.8746, -7.8756, -7.8785, -7.8757, -7.8729, -7.871, -7.8796, -7.8707, -7.8694, -7.8716, -7.8689, -7.8622, -7.8646, -7.8651, -7.8605, -7.8686, -7.8577, -7.8633, -7.8659, -7.7719, -7.8608, -7.8592, -7.8573, -7.8603, -7.8688, -7.8231, -7.8531, -7.8521, -7.8523, -7.8314, -7.8565, -7.8569, -7.8543, -7.8626, -7.8541, -7.8576, -7.8621, -7.827, -7.84, -7.8399, -7.8408, -7.8519, -7.8521, -7.8543, -7.8575, -7.8329, -7.8467, -7.8542, -7.8334, -7.8475, -7.8488, -7.849, -7.85, -7.8506, -7.8507, -7.851, -7.8512, -7.8515, -7.8519, -7.8527, -7.8532, -7.8539, -7.854, -7.8541]}, \"token.table\": {\"Topic\": [1, 1, 1, 1, 1, 1, 1, 1, 1, 1, 1, 1, 1, 1, 1, 1, 1, 1, 1, 1, 1, 1, 1, 1, 1, 1, 1, 1, 1, 1, 1, 1, 1, 1, 1, 1, 1, 1, 1, 1, 1, 1, 1, 1, 1, 1, 1, 1, 1, 1, 1, 1, 1, 1, 1, 1, 1, 1, 1, 1, 1, 1, 1, 1, 1, 5, 1, 1, 1, 1, 4, 1, 1, 1, 1, 1, 1, 1, 1, 1, 1, 1, 1, 1, 1, 1, 1, 1, 1, 1, 1, 1, 1, 1, 1, 1, 1, 1, 1, 1, 1, 1, 1, 1, 1, 1, 1, 1, 1, 1, 1, 1, 1, 1, 1, 1, 1, 1, 1, 1, 1, 1, 1, 1, 1, 1, 1, 1, 1, 1, 1, 1, 1, 1, 1, 1, 1, 1, 1, 1, 1, 1, 1, 1, 1, 1, 1, 1, 1, 1, 1, 1, 1, 1, 1, 1, 1, 1, 1, 1, 1, 1, 1, 1, 1, 1], \"Freq\": [1.1157889146937068, 1.4357694264705605, 0.9108524889283967, 1.2526423178587387, 1.4595912670444864, 0.8330671586071381, 1.0482584253552347, 0.9852750115554039, 1.0116009573921876, 0.992936289841861, 1.465131562455298, 1.1346024274768323, 0.8100211005182646, 0.8455953567128048, 1.0512142346625033, 0.8741611020383014, 0.855070186854846, 0.7357971983662259, 0.9779263673229455, 1.1168111334374955, 0.8591909933296111, 0.9810340283326595, 1.0128246325006718, 1.0422091394167419, 1.330230588052339, 1.1068652066797295, 0.942220187624072, 1.0217336523645701, 0.8694801578179222, 0.940160030408503, 0.94130876472851, 1.0157711642466507, 0.8846663038885397, 1.1435719818726475, 1.0395228423063294, 0.7488495025884246, 1.0104694220584263, 0.9028849080102158, 0.9427323674632019, 1.0683343709750637, 0.940414703190723, 0.7328740784127947, 0.9382718539157415, 1.326488433010984, 1.0791384021393695, 1.033805138121344, 0.8952272240612985, 0.9582165141711749, 0.9557075378908687, 0.97211859078059, 0.9730895715419844, 0.9446724285198295, 0.9403198064319881, 0.8889851328869721, 0.9679898661444688, 1.0544239305976464, 0.9828337994435287, 0.9418323958428336, 0.8766896672400084, 0.9632957941168592, 0.9697095823432518, 0.6388924677365188, 0.9093844028946887, 1.0272938744783928, 0.9088987769741231, 0.9695027587739683, 0.8906261561056548, 1.033615336818302, 1.0625216731033336, 0.5369583572359284, 0.5369583572359284, 1.0104420398360137, 1.047292079601399, 1.0233677535464591, 0.8918365160101659, 0.922082407728679, 1.0270210587422253, 1.015197069975735, 1.0854283388442934, 1.3935104310691353, 1.0398763723256488, 0.8023670390933543, 1.0090034218131776, 0.9260165179153808, 0.9986910508679555, 1.0268976030736128, 0.7306428616593527, 1.272049821790749, 0.9323579985063947, 1.051181667883278, 0.9568075973065602, 0.9239838208199056, 0.607013393837637, 1.1090229432366807, 0.641456123692375, 0.9864866628015689, 1.028664323134597, 1.0176651304629019, 0.9589544309578558, 0.9590251568212208, 1.0893551095498226, 1.165745542074132, 1.258936346880055, 1.0109324205924475, 0.9361903421697171, 0.794776269650448, 0.704338876870761, 0.9636111520395845, 0.8966767127142923, 0.7168312021140607, 1.093061242400048, 1.2698020469610791, 0.9457764234284955, 1.2058988348427755, 0.6421330724770533, 0.9265725846059202, 0.8105876952959883, 0.966293773021713, 0.8374276383468028, 1.1372704938020888, 0.960752345901179, 1.0491293436422657, 0.688585151724215, 0.9673542172667013, 1.0775365063825513, 0.8508986305376522, 0.9504973759258629, 0.754968170437266, 0.8881430269950995, 1.0575730703315538, 0.9584005312119662, 1.3807635915782452, 0.8086243430065299, 1.0080153594402048, 1.0217306723688966, 0.9062808690424204, 0.9904654132775627, 1.1640014104874576, 0.9585707909778599, 0.9164809955995266, 0.845047007156567, 1.0127796159259481, 0.8424369019684125, 0.7504317113835022, 0.9377422285988328, 0.8401976396669948, 1.0501749651704533, 0.971446409817229, 1.0109261653582797, 0.9065247375922387, 1.046895473615693, 1.0696785333030443, 1.0263301069017177, 0.9552154092741144, 0.8965199593855561, 0.9793111494802041, 1.0525461694053555, 0.986601856854224, 0.9122084262488849, 0.9585953539852673, 0.9095962983328472, 0.954614247044955, 0.8993292049460635, 1.1768524625167351, 0.8479347114181351, 0.9568947262307685], \"Term\": [\"accept\", \"admit\", \"adore\", \"advance\", \"afford\", \"anybody\", \"anymore\", \"away\", \"babe\", \"baby\", \"badge\", \"beauty\", \"beg\", \"bell\", \"best\", \"billy\", \"blowing\", \"break\", \"bright\", \"broken\", \"chance\", \"child\", \"come\", \"command\", \"compared\", \"criticize\", \"danced\", \"dark\", \"dawn\", \"day\", \"dead\", \"dollar\", \"door\", \"drank\", \"dream\", \"dreamed\", \"early\", \"everybody\", \"eye\", \"fair\", \"father\", \"favor\", \"feel\", \"foggy\", \"glory\", \"god\", \"goin\", \"gon\", \"gone\", \"good\", \"got\", \"gypsy\", \"hand\", \"hang\", \"hard\", \"head\", \"hear\", \"heart\", \"heaven\", \"heed\", \"high\", \"hmm\", \"home\", \"honey\", \"hour\", \"instrumental\", \"jane\", \"killed\", \"king\", \"knock\", \"knock\", \"know\", \"land\", \"let\", \"levee\", \"life\", \"light\", \"like\", \"line\", \"lingered\", \"little\", \"load\", \"long\", \"lord\", \"love\", \"low\", \"maid\", \"maiden\", \"make\", \"mama\", \"man\", \"mind\", \"momma\", \"moore\", \"movin\", \"need\", \"new\", \"night\", \"nothin\", \"old\", \"paint\", \"path\", \"pen\", \"people\", \"pie\", \"played\", \"playing\", \"pleasure\", \"queen\", \"quit\", \"rank\", \"reflection\", \"remember\", \"reward\", \"riding\", \"right\", \"risin\", \"road\", \"rock\", \"rounder\", \"said\", \"santa\", \"save\", \"say\", \"scarlet\", \"sea\", \"seven\", \"shall\", \"ship\", \"shout\", \"speaks\", \"spoken\", \"stone\", \"street\", \"summer\", \"sun\", \"survive\", \"swing\", \"tell\", \"thing\", \"threw\", \"time\", \"told\", \"tomorrow\", \"town\", \"tree\", \"trial\", \"tried\", \"trouble\", \"true\", \"turn\", \"unkind\", \"wan\", \"want\", \"water\", \"way\", \"wee\", \"weekend\", \"went\", \"whistle\", \"wind\", \"woman\", \"world\", \"worried\", \"yeah\", \"young\"]}, \"R\": 30, \"lambda.step\": 0.01, \"plot.opts\": {\"xlab\": \"PC1\", \"ylab\": \"PC2\"}, \"topic.order\": [4, 8, 1, 2, 7, 3, 6, 5]};\n",
       "\n",
       "function LDAvis_load_lib(url, callback){\n",
       "  var s = document.createElement('script');\n",
       "  s.src = url;\n",
       "  s.async = true;\n",
       "  s.onreadystatechange = s.onload = callback;\n",
       "  s.onerror = function(){console.warn(\"failed to load library \" + url);};\n",
       "  document.getElementsByTagName(\"head\")[0].appendChild(s);\n",
       "}\n",
       "\n",
       "if(typeof(LDAvis) !== \"undefined\"){\n",
       "   // already loaded: just create the visualization\n",
       "   !function(LDAvis){\n",
       "       new LDAvis(\"#\" + \"ldavis_el9863448390655445146424493\", ldavis_el9863448390655445146424493_data);\n",
       "   }(LDAvis);\n",
       "}else if(typeof define === \"function\" && define.amd){\n",
       "   // require.js is available: use it to load d3/LDAvis\n",
       "   require.config({paths: {d3: \"https://cdnjs.cloudflare.com/ajax/libs/d3/3.5.5/d3.min\"}});\n",
       "   require([\"d3\"], function(d3){\n",
       "      window.d3 = d3;\n",
       "      LDAvis_load_lib(\"https://cdn.rawgit.com/bmabey/pyLDAvis/files/ldavis.v1.0.0.js\", function(){\n",
       "        new LDAvis(\"#\" + \"ldavis_el9863448390655445146424493\", ldavis_el9863448390655445146424493_data);\n",
       "      });\n",
       "    });\n",
       "}else{\n",
       "    // require.js not available: dynamically load d3 & LDAvis\n",
       "    LDAvis_load_lib(\"https://cdnjs.cloudflare.com/ajax/libs/d3/3.5.5/d3.min.js\", function(){\n",
       "         LDAvis_load_lib(\"https://cdn.rawgit.com/bmabey/pyLDAvis/files/ldavis.v1.0.0.js\", function(){\n",
       "                 new LDAvis(\"#\" + \"ldavis_el9863448390655445146424493\", ldavis_el9863448390655445146424493_data);\n",
       "            })\n",
       "         });\n",
       "}\n",
       "</script>"
      ],
      "text/plain": [
       "PreparedData(topic_coordinates=            Freq  cluster  topics          x          y\n",
       "topic                                                  \n",
       "3      86.093000        1       1  14.272788  -1.598282\n",
       "7       2.160377        1       2  20.918560 -46.289513\n",
       "0       2.105977        1       3  53.364021 -24.271191\n",
       "1       2.105795        1       4  56.366192  14.823011\n",
       "6       2.003240        1       5 -30.773230   1.871839\n",
       "2       1.891574        1       6 -16.531700 -34.660961\n",
       "5       1.820019        1       7 -11.104020  35.793705\n",
       "4       1.820018        1       8  27.680124  41.549057, topic_info=     Category      Freq          Term      Total  loglift  logprob\n",
       "term                                                              \n",
       "1154  Default  2.000000  instrumental   2.000000  30.0000  30.0000\n",
       "1054  Default  4.000000        heaven   4.000000  29.0000  29.0000\n",
       "621   Default  6.000000          door   6.000000  28.0000  28.0000\n",
       "2187  Default  3.000000         stone   3.000000  27.0000  27.0000\n",
       "1234  Default  1.000000         knock   1.000000  26.0000  26.0000\n",
       "231   Default  2.000000         break   2.000000  25.0000  25.0000\n",
       "544   Default  2.000000          dawn   2.000000  24.0000  24.0000\n",
       "2481  Default  1.000000           wan   1.000000  23.0000  23.0000\n",
       "2555  Default  5.000000          wind   5.000000  22.0000  22.0000\n",
       "1387  Default  4.000000          mama   4.000000  21.0000  21.0000\n",
       "1305  Default  5.000000         light   5.000000  20.0000  20.0000\n",
       "1626  Default  5.000000        people   5.000000  19.0000  19.0000\n",
       "772   Default  6.000000          feel   6.000000  18.0000  18.0000\n",
       "1039  Default  5.000000          head   5.000000  17.0000  17.0000\n",
       "940   Default  5.000000           god   5.000000  16.0000  16.0000\n",
       "1509  Default  6.000000          need   6.000000  15.0000  15.0000\n",
       "1071  Default  5.000000          high   5.000000  14.0000  14.0000\n",
       "2241  Default  5.000000           sun   5.000000  13.0000  13.0000\n",
       "1091  Default  6.000000          home   6.000000  12.0000  12.0000\n",
       "2530  Default  6.000000          went   6.000000  11.0000  11.0000\n",
       "1824  Default  5.000000      remember   5.000000  10.0000  10.0000\n",
       "2572  Default  6.000000         woman   6.000000   9.0000   9.0000\n",
       "2371  Default  6.000000          town   6.000000   8.0000   8.0000\n",
       "547   Default  5.000000          dead   5.000000   7.0000   7.0000\n",
       "1300  Default  6.000000          life   6.000000   6.0000   6.0000\n",
       "2206  Default  4.000000        street   4.000000   5.0000   5.0000\n",
       "1023  Default  6.000000          hard   6.000000   4.0000   4.0000\n",
       "719   Default  5.000000     everybody   5.000000   3.0000   3.0000\n",
       "1517  Default  5.000000           new   5.000000   2.0000   2.0000\n",
       "1860  Default  6.000000          road   6.000000   1.0000   1.0000\n",
       "...       ...       ...           ...        ...      ...      ...\n",
       "847    Topic8  0.024010        forest   0.666965   0.6821  -7.8541\n",
       "2215   Topic8  0.023926     strolling   0.558883   0.8553  -7.8576\n",
       "2596   Topic8  0.023819         wreck   0.450791   1.0658  -7.8621\n",
       "1252   Topic8  0.024671          land   3.819374  -1.0359  -7.8270\n",
       "1379   Topic8  0.024352          maid   1.368658  -0.0226  -7.8400\n",
       "2542   Topic8  0.024354       whistle   2.086386  -0.4442  -7.8399\n",
       "1755   Topic8  0.024331         queen   2.230458  -0.5119  -7.8408\n",
       "2393   Topic8  0.024063         trial   0.952222   0.3282  -7.8519\n",
       "2024   Topic8  0.024059         shout   0.945561   0.3350  -7.8521\n",
       "1380   Topic8  0.024006        maiden   0.786133   0.5175  -7.8543\n",
       "1854   Topic8  0.023928           rip   0.579578   0.8191  -7.8575\n",
       "80     Topic8  0.024524          babe   6.919725  -1.6361  -7.8329\n",
       "122    Topic8  0.024188        beauty   1.762732  -0.2824  -7.8467\n",
       "1885   Topic8  0.024008       rounder   0.879298   0.4056  -7.8542\n",
       "411    Topic8  0.024513          come  15.797404  -2.4621  -7.8334\n",
       "999    Topic8  0.024169         gypsy   2.117136  -0.4664  -7.8475\n",
       "1039   Topic8  0.024138          head   5.690311  -1.4564  -7.8488\n",
       "947    Topic8  0.024133           gon  13.566871  -2.3255  -7.8490\n",
       "2240   Topic8  0.024109        summer   1.957463  -0.3905  -7.8500\n",
       "1307   Topic8  0.024095          like  16.745517  -2.5376  -7.8506\n",
       "244    Topic8  0.024092        bright   2.045144  -0.4350  -7.8507\n",
       "2618   Topic8  0.024086         young   4.180188  -1.1502  -7.8510\n",
       "2402   Topic8  0.024081          true   6.618683  -1.6099  -7.8512\n",
       "1536   Topic8  0.024073        nothin   3.128407  -0.8609  -7.8515\n",
       "1326   Topic8  0.024064        little   6.731569  -1.6275  -7.8519\n",
       "1509   Topic8  0.024043          need   6.082191  -1.5269  -7.8527\n",
       "1670   Topic8  0.024033      pleasure   1.037763   0.2409  -7.8532\n",
       "2331   Topic8  0.024016         threw   1.183366   0.1089  -7.8539\n",
       "127    Topic8  0.024013           beg   1.234536   0.0665  -7.8540\n",
       "1300   Topic8  0.024011          life   6.507011  -1.5958  -7.8541\n",
       "\n",
       "[505 rows x 6 columns], token_table=      Topic      Freq       Term\n",
       "term                            \n",
       "3         1  1.115789     accept\n",
       "11        1  1.435769      admit\n",
       "12        1  0.910852      adore\n",
       "13        1  1.252642    advance\n",
       "18        1  1.459591     afford\n",
       "45        1  0.833067    anybody\n",
       "46        1  1.048258    anymore\n",
       "78        1  0.985275       away\n",
       "80        1  1.011601       babe\n",
       "81        1  0.992936       baby\n",
       "85        1  1.465132      badge\n",
       "122       1  1.134602     beauty\n",
       "127       1  0.810021        beg\n",
       "139       1  0.845595       bell\n",
       "148       1  1.051214       best\n",
       "158       1  0.874161      billy\n",
       "193       1  0.855070    blowing\n",
       "231       1  0.735797      break\n",
       "244       1  0.977926     bright\n",
       "250       1  1.116811     broken\n",
       "339       1  0.859191     chance\n",
       "359       1  0.981034      child\n",
       "411       1  1.012825       come\n",
       "415       1  1.042209    command\n",
       "421       1  1.330231   compared\n",
       "493       1  1.106865  criticize\n",
       "527       1  0.942220     danced\n",
       "535       1  1.021734       dark\n",
       "544       1  0.869480       dawn\n",
       "545       1  0.940160        day\n",
       "...     ...       ...        ...\n",
       "2254      1  0.990465    survive\n",
       "2268      1  1.164001      swing\n",
       "2300      1  0.958571       tell\n",
       "2320      1  0.916481      thing\n",
       "2331      1  0.845047      threw\n",
       "2345      1  1.012780       time\n",
       "2354      1  0.842437       told\n",
       "2358      1  0.750432   tomorrow\n",
       "2371      1  0.937742       town\n",
       "2390      1  0.840198       tree\n",
       "2393      1  1.050175      trial\n",
       "2396      1  0.971446      tried\n",
       "2399      1  1.010926    trouble\n",
       "2402      1  0.906525       true\n",
       "2414      1  1.046895       turn\n",
       "2435      1  1.069679     unkind\n",
       "2481      1  1.026330        wan\n",
       "2485      1  0.955215       want\n",
       "2502      1  0.896520      water\n",
       "2506      1  0.979311        way\n",
       "2522      1  1.052546        wee\n",
       "2524      1  0.986602    weekend\n",
       "2530      1  0.912208       went\n",
       "2542      1  0.958595    whistle\n",
       "2555      1  0.909596       wind\n",
       "2572      1  0.954614      woman\n",
       "2584      1  0.899329      world\n",
       "2586      1  1.176852    worried\n",
       "2606      1  0.847935       yeah\n",
       "2618      1  0.956895      young\n",
       "\n",
       "[166 rows x 3 columns], R=30, lambda_step=0.01, plot_opts={'xlab': 'PC1', 'ylab': 'PC2'}, topic_order=[4, 8, 1, 2, 7, 3, 6, 5])"
      ]
     },
     "execution_count": 72,
     "metadata": {},
     "output_type": "execute_result"
    }
   ],
   "source": [
    "import pyLDAvis\n",
    "import pyLDAvis.sklearn\n",
    "\n",
    "pyLDAvis.enable_notebook()\n",
    "panel = pyLDAvis.sklearn.prepare(lda, X, tfidf, mds='tsne')\n",
    "panel"
   ]
  },
  {
   "cell_type": "markdown",
   "metadata": {},
   "source": [
    "## Comparing NMF vs. LDA"
   ]
  },
  {
   "cell_type": "markdown",
   "metadata": {},
   "source": [
    "Latent Dirichlet Allocation (LDA) and Non-negative Matrix Factorization (NMF) are both topic modelling tools. The main difference is that LDA takes a Bayesian approach and adds a Dirichlet prior on top of the generative model. NMF’s topic-word probability distributions are fixed, while LDA’s topic-word distributions vary based on how the prior was tuned (hyperparameter $k$ - number of components). NMF would be a better choice if the topic probabilities are fixed for each document ref. Also, if our dataset is small, LDA may have inferior performance since it could introduce too much variability to the model ref.\n",
    "\n",
    "Unlike NMF, reconstructing X with LDA is not a closed-form solution. We need to use Monte Carlo simulations to sample from the distribution of Z (the distribution of topics for each sample), followed by the distribution of W (the distribution of words for topic $Z_i$)."
   ]
  }
 ],
 "metadata": {
  "kernelspec": {
   "display_name": "Python 3",
   "language": "python",
   "name": "python3"
  },
  "language_info": {
   "codemirror_mode": {
    "name": "ipython",
    "version": 3
   },
   "file_extension": ".py",
   "mimetype": "text/x-python",
   "name": "python",
   "nbconvert_exporter": "python",
   "pygments_lexer": "ipython3",
   "version": "3.6.5"
  }
 },
 "nbformat": 4,
 "nbformat_minor": 2
}
